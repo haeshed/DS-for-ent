{
 "cells": [
  {
   "cell_type": "markdown",
   "id": "f64377a0",
   "metadata": {},
   "source": [
    "# Part 1- Import libraries"
   ]
  },
  {
   "cell_type": "code",
   "execution_count": 3,
   "id": "5551933d",
   "metadata": {},
   "outputs": [],
   "source": [
    "import scipy as sp\n",
    "import numpy as np\n",
    "import matplotlib.pyplot as plt\n",
    "import pandas as pd\n",
    "import matplotlib as mpl\n",
    "import os\n",
    "import math\n",
    "import seaborn\n",
    "import mpl_toolkits\n",
    "import mpl_toolkits.mplot3d\n"
   ]
  },
  {
   "cell_type": "markdown",
   "id": "163296df",
   "metadata": {},
   "source": [
    "# Part 2 -  DATA ANALYSIS"
   ]
  },
  {
   "cell_type": "code",
   "execution_count": 4,
   "id": "8f5a2dea",
   "metadata": {
    "scrolled": true
   },
   "outputs": [
    {
     "data": {
      "text/html": [
       "<div>\n",
       "<style scoped>\n",
       "    .dataframe tbody tr th:only-of-type {\n",
       "        vertical-align: middle;\n",
       "    }\n",
       "\n",
       "    .dataframe tbody tr th {\n",
       "        vertical-align: top;\n",
       "    }\n",
       "\n",
       "    .dataframe thead th {\n",
       "        text-align: right;\n",
       "    }\n",
       "</style>\n",
       "<table border=\"1\" class=\"dataframe\">\n",
       "  <thead>\n",
       "    <tr style=\"text-align: right;\">\n",
       "      <th></th>\n",
       "      <th>Row ID</th>\n",
       "      <th>Order ID</th>\n",
       "      <th>Order Date</th>\n",
       "      <th>Ship Date</th>\n",
       "      <th>Ship Mode</th>\n",
       "      <th>Customer ID</th>\n",
       "      <th>Customer Name</th>\n",
       "      <th>Segment</th>\n",
       "      <th>Country</th>\n",
       "      <th>City</th>\n",
       "      <th>...</th>\n",
       "      <th>Postal Code</th>\n",
       "      <th>Region</th>\n",
       "      <th>Product ID</th>\n",
       "      <th>Category</th>\n",
       "      <th>Sub-Category</th>\n",
       "      <th>Product Name</th>\n",
       "      <th>Sales</th>\n",
       "      <th>Quantity</th>\n",
       "      <th>Discount</th>\n",
       "      <th>Profit</th>\n",
       "    </tr>\n",
       "  </thead>\n",
       "  <tbody>\n",
       "    <tr>\n",
       "      <th>0</th>\n",
       "      <td>1</td>\n",
       "      <td>CA-2016-152156</td>\n",
       "      <td>11/08/2016</td>\n",
       "      <td>11/11/2016</td>\n",
       "      <td>Second Class</td>\n",
       "      <td>CG-12520</td>\n",
       "      <td>Claire Gute</td>\n",
       "      <td>Consumer</td>\n",
       "      <td>United States</td>\n",
       "      <td>Henderson</td>\n",
       "      <td>...</td>\n",
       "      <td>42420</td>\n",
       "      <td>South</td>\n",
       "      <td>FUR-BO-10001798</td>\n",
       "      <td>Furniture</td>\n",
       "      <td>Bookcases</td>\n",
       "      <td>Bush Somerset Collection Bookcase</td>\n",
       "      <td>261.9600</td>\n",
       "      <td>2</td>\n",
       "      <td>0.00</td>\n",
       "      <td>41.9136</td>\n",
       "    </tr>\n",
       "    <tr>\n",
       "      <th>1</th>\n",
       "      <td>2</td>\n",
       "      <td>CA-2016-152156</td>\n",
       "      <td>11/08/2016</td>\n",
       "      <td>11/11/2016</td>\n",
       "      <td>Second Class</td>\n",
       "      <td>CG-12520</td>\n",
       "      <td>Claire Gute</td>\n",
       "      <td>Consumer</td>\n",
       "      <td>United States</td>\n",
       "      <td>Henderson</td>\n",
       "      <td>...</td>\n",
       "      <td>42420</td>\n",
       "      <td>South</td>\n",
       "      <td>FUR-CH-10000454</td>\n",
       "      <td>Furniture</td>\n",
       "      <td>Chairs</td>\n",
       "      <td>Hon Deluxe Fabric Upholstered Stacking Chairs,...</td>\n",
       "      <td>731.9400</td>\n",
       "      <td>3</td>\n",
       "      <td>0.00</td>\n",
       "      <td>219.5820</td>\n",
       "    </tr>\n",
       "    <tr>\n",
       "      <th>2</th>\n",
       "      <td>3</td>\n",
       "      <td>CA-2016-138688</td>\n",
       "      <td>06/12/2016</td>\n",
       "      <td>6/16/16</td>\n",
       "      <td>Second Class</td>\n",
       "      <td>DV-13045</td>\n",
       "      <td>Darrin Van Huff</td>\n",
       "      <td>Corporate</td>\n",
       "      <td>United States</td>\n",
       "      <td>Los Angeles</td>\n",
       "      <td>...</td>\n",
       "      <td>90036</td>\n",
       "      <td>West</td>\n",
       "      <td>OFF-LA-10000240</td>\n",
       "      <td>Office Supplies</td>\n",
       "      <td>Labels</td>\n",
       "      <td>Self-Adhesive Address Labels for Typewriters b...</td>\n",
       "      <td>14.6200</td>\n",
       "      <td>2</td>\n",
       "      <td>0.00</td>\n",
       "      <td>6.8714</td>\n",
       "    </tr>\n",
       "    <tr>\n",
       "      <th>3</th>\n",
       "      <td>4</td>\n",
       "      <td>US-2015-108966</td>\n",
       "      <td>10/11/2015</td>\n",
       "      <td>10/18/15</td>\n",
       "      <td>Standard Class</td>\n",
       "      <td>SO-20335</td>\n",
       "      <td>Sean O'Donnell</td>\n",
       "      <td>Consumer</td>\n",
       "      <td>United States</td>\n",
       "      <td>Fort Lauderdale</td>\n",
       "      <td>...</td>\n",
       "      <td>33311</td>\n",
       "      <td>South</td>\n",
       "      <td>FUR-TA-10000577</td>\n",
       "      <td>Furniture</td>\n",
       "      <td>Tables</td>\n",
       "      <td>Bretford CR4500 Series Slim Rectangular Table</td>\n",
       "      <td>957.5775</td>\n",
       "      <td>5</td>\n",
       "      <td>0.45</td>\n",
       "      <td>-383.0310</td>\n",
       "    </tr>\n",
       "    <tr>\n",
       "      <th>4</th>\n",
       "      <td>5</td>\n",
       "      <td>US-2015-108966</td>\n",
       "      <td>10/11/2015</td>\n",
       "      <td>10/18/15</td>\n",
       "      <td>Standard Class</td>\n",
       "      <td>SO-20335</td>\n",
       "      <td>Sean O'Donnell</td>\n",
       "      <td>Consumer</td>\n",
       "      <td>United States</td>\n",
       "      <td>Fort Lauderdale</td>\n",
       "      <td>...</td>\n",
       "      <td>33311</td>\n",
       "      <td>South</td>\n",
       "      <td>OFF-ST-10000760</td>\n",
       "      <td>Office Supplies</td>\n",
       "      <td>Storage</td>\n",
       "      <td>Eldon Fold 'N Roll Cart System</td>\n",
       "      <td>22.3680</td>\n",
       "      <td>2</td>\n",
       "      <td>0.20</td>\n",
       "      <td>2.5164</td>\n",
       "    </tr>\n",
       "  </tbody>\n",
       "</table>\n",
       "<p>5 rows × 21 columns</p>\n",
       "</div>"
      ],
      "text/plain": [
       "   Row ID        Order ID  Order Date   Ship Date       Ship Mode Customer ID  \\\n",
       "0       1  CA-2016-152156  11/08/2016  11/11/2016    Second Class    CG-12520   \n",
       "1       2  CA-2016-152156  11/08/2016  11/11/2016    Second Class    CG-12520   \n",
       "2       3  CA-2016-138688  06/12/2016     6/16/16    Second Class    DV-13045   \n",
       "3       4  US-2015-108966  10/11/2015    10/18/15  Standard Class    SO-20335   \n",
       "4       5  US-2015-108966  10/11/2015    10/18/15  Standard Class    SO-20335   \n",
       "\n",
       "     Customer Name    Segment        Country             City  ...  \\\n",
       "0      Claire Gute   Consumer  United States        Henderson  ...   \n",
       "1      Claire Gute   Consumer  United States        Henderson  ...   \n",
       "2  Darrin Van Huff  Corporate  United States      Los Angeles  ...   \n",
       "3   Sean O'Donnell   Consumer  United States  Fort Lauderdale  ...   \n",
       "4   Sean O'Donnell   Consumer  United States  Fort Lauderdale  ...   \n",
       "\n",
       "  Postal Code  Region       Product ID         Category Sub-Category  \\\n",
       "0       42420   South  FUR-BO-10001798        Furniture    Bookcases   \n",
       "1       42420   South  FUR-CH-10000454        Furniture       Chairs   \n",
       "2       90036    West  OFF-LA-10000240  Office Supplies       Labels   \n",
       "3       33311   South  FUR-TA-10000577        Furniture       Tables   \n",
       "4       33311   South  OFF-ST-10000760  Office Supplies      Storage   \n",
       "\n",
       "                                        Product Name     Sales  Quantity  \\\n",
       "0                  Bush Somerset Collection Bookcase  261.9600         2   \n",
       "1  Hon Deluxe Fabric Upholstered Stacking Chairs,...  731.9400         3   \n",
       "2  Self-Adhesive Address Labels for Typewriters b...   14.6200         2   \n",
       "3      Bretford CR4500 Series Slim Rectangular Table  957.5775         5   \n",
       "4                     Eldon Fold 'N Roll Cart System   22.3680         2   \n",
       "\n",
       "   Discount    Profit  \n",
       "0      0.00   41.9136  \n",
       "1      0.00  219.5820  \n",
       "2      0.00    6.8714  \n",
       "3      0.45 -383.0310  \n",
       "4      0.20    2.5164  \n",
       "\n",
       "[5 rows x 21 columns]"
      ]
     },
     "execution_count": 4,
     "metadata": {},
     "output_type": "execute_result"
    }
   ],
   "source": [
    "df = pd.read_csv(\"superstore_data.csv\")\n",
    "df.head(5)"
   ]
  },
  {
   "cell_type": "markdown",
   "id": "7a1b0566",
   "metadata": {},
   "source": [
    "## Task 3 \n",
    "In this part ill answer questions 5 to 18"
   ]
  },
  {
   "cell_type": "code",
   "execution_count": 5,
   "id": "a9691a5b",
   "metadata": {},
   "outputs": [
    {
     "name": "stdout",
     "output_type": "stream",
     "text": [
      "Rows: 9994 Colums: 21\n"
     ]
    }
   ],
   "source": [
    "## q5\n",
    "rows, colums = df.shape\n",
    "print(\"Rows:\", rows, \"Colums:\", colums)"
   ]
  },
  {
   "cell_type": "code",
   "execution_count": 26,
   "id": "d6cdf940",
   "metadata": {},
   "outputs": [
    {
     "name": "stdout",
     "output_type": "stream",
     "text": [
      "Categories of transactions 2 till 5 (include 5):\n",
      " 2    Office Supplies\n",
      "3          Furniture\n",
      "4    Office Supplies\n",
      "5          Furniture\n",
      "Name: Category, dtype: object\n",
      "Unique categories of transactions 2 till 5 (include 5): ['Office Supplies' 'Furniture']\n"
     ]
    }
   ],
   "source": [
    "## q6\n",
    "print(\"Categories of transactions 2 till 5 (include 5):\\n\", df.iloc[2:6][\"Category\"])\n",
    "print(\"Unique categories of transactions 2 till 5 (include 5):\", df.iloc[2:6][\"Category\"].unique())\n"
   ]
  },
  {
   "cell_type": "code",
   "execution_count": 32,
   "id": "d6d9cbda",
   "metadata": {},
   "outputs": [
    {
     "name": "stdout",
     "output_type": "stream",
     "text": [
      "4\n"
     ]
    }
   ],
   "source": [
    "##q7\n",
    "#print(df[\"Ship Mode\"].unique().shape[0]) another solution\n",
    "print(df[\"Ship Mode\"].nunique())\n"
   ]
  },
  {
   "cell_type": "code",
   "execution_count": 38,
   "id": "5822dd6b",
   "metadata": {},
   "outputs": [
    {
     "name": "stdout",
     "output_type": "stream",
     "text": [
      "1847\n"
     ]
    }
   ],
   "source": [
    "#q8\n",
    "print(df[df[\"Category\"]==\"Technology\"].shape[0])\n"
   ]
  },
  {
   "cell_type": "code",
   "execution_count": 42,
   "id": "fc57c950",
   "metadata": {},
   "outputs": [
    {
     "name": "stdout",
     "output_type": "stream",
     "text": [
      "2017-12-30 00:00:00\n"
     ]
    }
   ],
   "source": [
    "#q9\n",
    "df[\"Order Date\"] = pd.to_datetime(df[\"Order Date\"])\n",
    "print(df[\"Order Date\"].sort_values()[df[\"Order Date\"].sort_values().last_valid_index()])"
   ]
  },
  {
   "cell_type": "code",
   "execution_count": 44,
   "id": "8a7a7223",
   "metadata": {},
   "outputs": [
    {
     "name": "stdout",
     "output_type": "stream",
     "text": [
      "2014-01-03 00:00:00\n"
     ]
    }
   ],
   "source": [
    "#q10\n",
    "print(df[\"Order Date\"].sort_values()[df[\"Order Date\"].sort_values().first_valid_index()])"
   ]
  },
  {
   "cell_type": "code",
   "execution_count": 50,
   "id": "a2446662",
   "metadata": {},
   "outputs": [
    {
     "name": "stdout",
     "output_type": "stream",
     "text": [
      "623.2451005086818\n"
     ]
    }
   ],
   "source": [
    "#q11\n",
    "print(df[\"Sales\"].std())\n"
   ]
  },
  {
   "cell_type": "code",
   "execution_count": 51,
   "id": "c73582ad",
   "metadata": {},
   "outputs": [
    {
     "name": "stdout",
     "output_type": "stream",
     "text": [
      "1\n"
     ]
    }
   ],
   "source": [
    "#q12\n",
    "print(df[\"Quantity\"].min())"
   ]
  },
  {
   "cell_type": "code",
   "execution_count": 53,
   "id": "65412d6a",
   "metadata": {},
   "outputs": [
    {
     "name": "stdout",
     "output_type": "stream",
     "text": [
      "0.8\n"
     ]
    }
   ],
   "source": [
    "#q13\n",
    "print(df[\"Discount\"].max())"
   ]
  },
  {
   "cell_type": "code",
   "execution_count": 56,
   "id": "5b1a8a4d",
   "metadata": {},
   "outputs": [
    {
     "name": "stdout",
     "output_type": "stream",
     "text": [
      "28.656896307784802\n"
     ]
    }
   ],
   "source": [
    "#q14\n",
    "print(df[\"Profit\"].mean())"
   ]
  },
  {
   "cell_type": "code",
   "execution_count": 57,
   "id": "78096e4e",
   "metadata": {},
   "outputs": [
    {
     "name": "stdout",
     "output_type": "stream",
     "text": [
      "286397.0217\n"
     ]
    }
   ],
   "source": [
    "#q15\n",
    "print(df[\"Profit\"].sum())"
   ]
  },
  {
   "cell_type": "code",
   "execution_count": 60,
   "id": "d8c481cc",
   "metadata": {},
   "outputs": [
    {
     "name": "stdout",
     "output_type": "stream",
     "text": [
      "617\n"
     ]
    }
   ],
   "source": [
    "#q16\n",
    "print(df[df[\"Sub-Category\"]==\"Chairs\"].shape[0])"
   ]
  },
  {
   "cell_type": "code",
   "execution_count": 62,
   "id": "c0cc8dbe",
   "metadata": {},
   "outputs": [
    {
     "name": "stdout",
     "output_type": "stream",
     "text": [
      "Binders\n"
     ]
    }
   ],
   "source": [
    "#q17\n",
    "print(df[\"Sub-Category\"].value_counts().idxmax())\n"
   ]
  },
  {
   "cell_type": "code",
   "execution_count": 63,
   "id": "432db17b",
   "metadata": {},
   "outputs": [
    {
     "name": "stdout",
     "output_type": "stream",
     "text": [
      "Copiers\n"
     ]
    }
   ],
   "source": [
    "#q18\n",
    "print(df[\"Sub-Category\"].value_counts().idxmin())"
   ]
  },
  {
   "cell_type": "markdown",
   "id": "d40d5b21",
   "metadata": {},
   "source": [
    "## TASK 4: VISUALIZE STATISTICS\n",
    "In this part ill answer questions 19 to 22"
   ]
  },
  {
   "cell_type": "code",
   "execution_count": 133,
   "id": "d4ea62c6",
   "metadata": {},
   "outputs": [
    {
     "data": {
      "image/png": "[encoded data removed]",
      "text/plain": [
       "<Figure size 432x288 with 1 Axes>"
      ]
     },
     "metadata": {
      "needs_background": "light"
     },
     "output_type": "display_data"
    },
    {
     "name": "stdout",
     "output_type": "stream",
     "text": [
      "count    9994.000000\n",
      "mean        3.789574\n",
      "std         2.225110\n",
      "min         1.000000\n",
      "25%         2.000000\n",
      "50%         3.000000\n",
      "75%         5.000000\n",
      "max        14.000000\n",
      "Name: Quantity, dtype: float64\n",
      "\n",
      "the horizontal line above the box is the max value, disregarding outliers\n",
      "the horizontal line under the box is the min value, disregarding outliers\n",
      "Q20: What's the line between the values 2 and 4 (shown on the Y-axis), and what's its value's?\n",
      "the value is the median and it's value is 3.0\n"
     ]
    }
   ],
   "source": [
    "#Q19 \n",
    "plt.boxplot(df[\"Quantity\"])\n",
    "plt.show()\n",
    "print(df[\"Quantity\"].describe())\n",
    "print(\"\\nthe horizontal line above the box is the max value, disregarding outliers\")\n",
    "print(\"the horizontal line under the box is the min value, disregarding outliers\")\n",
    "#Q20\n",
    "print(\"Q20: What's the line between the values 2 and 4 (shown on the Y-axis), and what's its value's?\")\n",
    "print(\"the value is the median and it's value is\", df[\"Quantity\"].median())\n",
    "\n",
    "#https://towardsdatascience.com/understanding-boxplots-5e2df7bcbd51"
   ]
  },
  {
   "cell_type": "code",
   "execution_count": 97,
   "id": "050cdd2a",
   "metadata": {},
   "outputs": [
    {
     "name": "stdout",
     "output_type": "stream",
     "text": [
      "The least popular ship mode is \" Same Day \"\n",
      "The most popular ship mode is \" Standard Class \"\n"
     ]
    },
    {
     "data": {
      "image/png": "[encoded data removed]",
      "text/plain": [
       "<Figure size 432x288 with 1 Axes>"
      ]
     },
     "metadata": {
      "needs_background": "light"
     },
     "output_type": "display_data"
    }
   ],
   "source": [
    "#Q21\n",
    "plt.hist(df[\"Ship Mode\"])\n",
    "print(\"The least popular ship mode is \\\"\",df[\"Ship Mode\"].value_counts().idxmin() ,\"\\\"\")\n",
    "print(\"The most popular ship mode is \\\"\",df[\"Ship Mode\"].value_counts().idxmax() ,\"\\\"\")"
   ]
  },
  {
   "cell_type": "code",
   "execution_count": 99,
   "id": "b8bc2c99",
   "metadata": {},
   "outputs": [
    {
     "name": "stdout",
     "output_type": "stream",
     "text": [
      "The lowest region from the bar is East\n"
     ]
    },
    {
     "data": {
      "image/png": "[encoded data removed]",
      "text/plain": [
       "<Figure size 432x288 with 1 Axes>"
      ]
     },
     "metadata": {
      "needs_background": "light"
     },
     "output_type": "display_data"
    }
   ],
   "source": [
    "#Q22\n",
    "plt.bar(df.Region,df.Sales)\n",
    "plt.ylabel(\"Sales\")\n",
    "plt.xlabel(\"Region\")\n",
    "plt.title(\"Sales / Region\")\n",
    "print(\"The lowest region from the bar is East\")"
   ]
  },
  {
   "cell_type": "code",
   "execution_count": null,
   "id": "bcbfd203",
   "metadata": {},
   "outputs": [],
   "source": []
  }
 ],
 "metadata": {
  "kernelspec": {
   "display_name": "Python 3 (ipykernel)",
   "language": "python",
   "name": "python3"
  },
  "language_info": {
   "codemirror_mode": {
    "name": "ipython",
    "version": 3
   },
   "file_extension": ".py",
   "mimetype": "text/x-python",
   "name": "python",
   "nbconvert_exporter": "python",
   "pygments_lexer": "ipython3",
   "version": "3.8.12"
  }
 },
 "nbformat": 4,
 "nbformat_minor": 5
}
