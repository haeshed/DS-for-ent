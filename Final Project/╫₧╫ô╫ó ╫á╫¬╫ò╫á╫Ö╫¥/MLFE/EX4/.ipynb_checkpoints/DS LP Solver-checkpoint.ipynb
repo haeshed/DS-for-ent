{
 "cells": [
  {
   "cell_type": "code",
   "execution_count": 27,
   "id": "1691ae8b",
   "metadata": {},
   "outputs": [
    {
     "name": "stdout",
     "output_type": "stream",
     "text": [
      "Once deleted, variables cannot be recovered. Proceed (y/[n])? y\n"
     ]
    }
   ],
   "source": [
    "%reset"
   ]
  },
  {
   "cell_type": "markdown",
   "id": "166b7713",
   "metadata": {},
   "source": [
    "In the forthcoming sessions, you will discover how to solve a problem of  DIET OPTIMIZATION for data DIET NUTRITIONAL with LINEAR PROGRAMMING"
   ]
  },
  {
   "cell_type": "markdown",
   "id": "48a30345",
   "metadata": {},
   "source": [
    "https://www.kaggle.com/code/nbuhagiar/diet-optimization-with-or-tools\n",
    "\n",
    "We wish to minimize the amount of food consumed"
   ]
  },
  {
   "cell_type": "markdown",
   "id": "cc13c183",
   "metadata": {},
   "source": [
    "# 1 enviroment & data"
   ]
  },
  {
   "cell_type": "markdown",
   "id": "825316e9",
   "metadata": {},
   "source": [
    "Import Python libraries"
   ]
  },
  {
   "cell_type": "code",
   "execution_count": 1,
   "id": "2b5f093e",
   "metadata": {},
   "outputs": [
    {
     "ename": "ModuleNotFoundError",
     "evalue": "No module named 'ortools'",
     "output_type": "error",
     "traceback": [
      "\u001b[1;31m---------------------------------------------------------------------------\u001b[0m",
      "\u001b[1;31mModuleNotFoundError\u001b[0m                       Traceback (most recent call last)",
      "Input \u001b[1;32mIn [1]\u001b[0m, in \u001b[0;36m<cell line: 7>\u001b[1;34m()\u001b[0m\n\u001b[0;32m      5\u001b[0m \u001b[38;5;28;01mimport\u001b[39;00m \u001b[38;5;21;01mpandas\u001b[39;00m \u001b[38;5;28;01mas\u001b[39;00m \u001b[38;5;21;01mpd\u001b[39;00m\n\u001b[0;32m      6\u001b[0m \u001b[38;5;66;03m# Optimization\u001b[39;00m\n\u001b[1;32m----> 7\u001b[0m \u001b[38;5;28;01mfrom\u001b[39;00m \u001b[38;5;21;01mortools\u001b[39;00m\u001b[38;5;21;01m.\u001b[39;00m\u001b[38;5;21;01mlinear_solver\u001b[39;00m \u001b[38;5;28;01mimport\u001b[39;00m pywraplp\n",
      "\u001b[1;31mModuleNotFoundError\u001b[0m: No module named 'ortools'"
     ]
    }
   ],
   "source": [
    "# Data Science\n",
    "import scipy\n",
    "import numpy as np\n",
    "import matplotlib\n",
    "import pandas as pd\n",
    "# Optimization\n",
    "from ortools.linear_solver import pywraplp"
   ]
  },
  {
   "cell_type": "markdown",
   "id": "042c4547",
   "metadata": {},
   "source": [
    "Import data"
   ]
  },
  {
   "cell_type": "code",
   "execution_count": 32,
   "id": "cb602f42",
   "metadata": {},
   "outputs": [],
   "source": [
    "info_input_file = \"DS nutriotional info data.csv\"\n",
    "req_input_file = \"DS nutritional req data.csv\""
   ]
  },
  {
   "cell_type": "code",
   "execution_count": 33,
   "id": "ce706418",
   "metadata": {},
   "outputs": [],
   "source": [
    "def get_df(file):\n",
    "    df = pd.read_csv(file)\n",
    "    return df\n",
    "df_info=get_df(info_input_file)\n",
    "df_req=get_df(req_input_file)"
   ]
  },
  {
   "cell_type": "code",
   "execution_count": 34,
   "id": "131a7e8e",
   "metadata": {},
   "outputs": [],
   "source": [
    "df_info.set_index(\"name\", inplace=True)\n",
    "df_info.drop(\"emoji\", axis=1, inplace=True)\n",
    "assert df_info.isna().sum().sum() == 0, \"Missing data.\""
   ]
  },
  {
   "cell_type": "code",
   "execution_count": 35,
   "id": "5f20aadf",
   "metadata": {},
   "outputs": [],
   "source": [
    "s_req=df_req.T[0]\n",
    "#s_req.name =\"s_req\"\n",
    "s_req.fillna(0,inplace=True)"
   ]
  },
  {
   "cell_type": "markdown",
   "id": "d01572a6",
   "metadata": {},
   "source": [
    "generate the solver "
   ]
  },
  {
   "cell_type": "code",
   "execution_count": 36,
   "id": "92bd0e49",
   "metadata": {},
   "outputs": [],
   "source": [
    "solver = pywraplp.Solver(name=\"nutrition_solver\", problem_type=pywraplp.Solver.GLOP_LINEAR_PROGRAMMING)"
   ]
  },
  {
   "cell_type": "markdown",
   "id": "59461cc7",
   "metadata": {},
   "source": [
    "generate the objective"
   ]
  },
  {
   "cell_type": "code",
   "execution_count": 37,
   "id": "d4bf53b5",
   "metadata": {},
   "outputs": [],
   "source": [
    "objective = solver.Objective()"
   ]
  },
  {
   "cell_type": "markdown",
   "id": "8930d86c",
   "metadata": {},
   "source": [
    "define objective function"
   ]
  },
  {
   "cell_type": "code",
   "execution_count": 38,
   "id": "e065fe66",
   "metadata": {},
   "outputs": [],
   "source": [
    "items = {item: solver.NumVar(0., solver.infinity(), item) for item in df_info.index}\n",
    "for item in items.values():\n",
    "    objective.SetCoefficient(item, 1)\n",
    "objective.SetMinimization()"
   ]
  },
  {
   "cell_type": "markdown",
   "id": "2c8a8e7e",
   "metadata": {},
   "source": [
    "define constraints\n",
    "For each nutritional metric, its constraint (linear combination of each food item with its corresponding coefficient) is set to be equal or higher than its minimum requirement."
   ]
  },
  {
   "cell_type": "code",
   "execution_count": 39,
   "id": "0af80d72",
   "metadata": {},
   "outputs": [],
   "source": [
    "constraints = {item: solver.Constraint(requirement, solver.infinity()) for item, requirement in s_req.iteritems()}\n",
    "for item, item_info in df_info.iterrows(): # food, list of: metric+ value\n",
    "    #for example grape, grape row( callories + number,... Vitamin +number...)\n",
    "    for metric, value in item_info.iteritems():\n",
    "        constraints[metric].SetCoefficient(items[item], value)"
   ]
  },
  {
   "cell_type": "markdown",
   "id": "a1b18233",
   "metadata": {},
   "source": [
    "solve"
   ]
  },
  {
   "cell_type": "code",
   "execution_count": 40,
   "id": "82ea9256",
   "metadata": {},
   "outputs": [
    {
     "name": "stdout",
     "output_type": "stream",
     "text": [
      "Found the optimal solution!\n"
     ]
    }
   ],
   "source": [
    "status = solver.Solve()\n",
    "if status == solver.OPTIMAL:\n",
    "    print(\"Found the optimal solution!\")\n",
    "elif status == solver.FEASIBLE:\n",
    "    print(\"Found a feasible solution.\")\n",
    "else:\n",
    "    print(\"Problem not solved.\")"
   ]
  },
  {
   "cell_type": "code",
   "execution_count": 41,
   "id": "df1c8eb2",
   "metadata": {},
   "outputs": [
    {
     "name": "stdout",
     "output_type": "stream",
     "text": [
      "kiwifruit - 251.56156413108582 grams\n",
      "peanuts - 109.20485517100684 grams\n",
      "ice cream - 2068.96551724138 grams\n"
     ]
    }
   ],
   "source": [
    "#see solution\n",
    "for item, value in items.items():\n",
    "    solution = value.solution_value()\n",
    "    if solution > 0.:\n",
    "        print(item, \"-\", solution, \"grams\")"
   ]
  },
  {
   "cell_type": "code",
   "execution_count": null,
   "id": "3dbd957b",
   "metadata": {},
   "outputs": [],
   "source": []
  }
 ],
 "metadata": {
  "kernelspec": {
   "display_name": "Python 3 (ipykernel)",
   "language": "python",
   "name": "python3"
  },
  "language_info": {
   "codemirror_mode": {
    "name": "ipython",
    "version": 3
   },
   "file_extension": ".py",
   "mimetype": "text/x-python",
   "name": "python",
   "nbconvert_exporter": "python",
   "pygments_lexer": "ipython3",
   "version": "3.9.12"
  }
 },
 "nbformat": 4,
 "nbformat_minor": 5
}
