{
 "cells": [
  {
   "cell_type": "code",
   "execution_count": 5,
   "id": "9240b27a",
   "metadata": {},
   "outputs": [],
   "source": [
    "import pandas as pd\n",
    "import numpy as np\n",
    "from sklearn.tree import DecisionTreeClassifier\n",
    "from sklearn import tree\n",
    "from sklearn import metrics \n"
   ]
  },
  {
   "cell_type": "code",
   "execution_count": 6,
   "id": "2d51ba36",
   "metadata": {},
   "outputs": [
    {
     "name": "stdout",
     "output_type": "stream",
     "text": [
      "Data exploration:\n"
     ]
    },
    {
     "data": {
      "text/html": [
       "<div>\n",
       "<style scoped>\n",
       "    .dataframe tbody tr th:only-of-type {\n",
       "        vertical-align: middle;\n",
       "    }\n",
       "\n",
       "    .dataframe tbody tr th {\n",
       "        vertical-align: top;\n",
       "    }\n",
       "\n",
       "    .dataframe thead th {\n",
       "        text-align: right;\n",
       "    }\n",
       "</style>\n",
       "<table border=\"1\" class=\"dataframe\">\n",
       "  <thead>\n",
       "    <tr style=\"text-align: right;\">\n",
       "      <th></th>\n",
       "      <th>buying_price</th>\n",
       "      <th>maintenance_price</th>\n",
       "      <th>num_doors</th>\n",
       "      <th>num_persons</th>\n",
       "      <th>luggage_boot</th>\n",
       "      <th>safety</th>\n",
       "      <th>acceptable</th>\n",
       "      <th>train</th>\n",
       "    </tr>\n",
       "  </thead>\n",
       "  <tbody>\n",
       "    <tr>\n",
       "      <th>0</th>\n",
       "      <td>3</td>\n",
       "      <td>3</td>\n",
       "      <td>1</td>\n",
       "      <td>1</td>\n",
       "      <td>3</td>\n",
       "      <td>3</td>\n",
       "      <td>0</td>\n",
       "      <td>1</td>\n",
       "    </tr>\n",
       "    <tr>\n",
       "      <th>1</th>\n",
       "      <td>3</td>\n",
       "      <td>3</td>\n",
       "      <td>1</td>\n",
       "      <td>3</td>\n",
       "      <td>1</td>\n",
       "      <td>1</td>\n",
       "      <td>0</td>\n",
       "      <td>1</td>\n",
       "    </tr>\n",
       "    <tr>\n",
       "      <th>2</th>\n",
       "      <td>2</td>\n",
       "      <td>3</td>\n",
       "      <td>4</td>\n",
       "      <td>2</td>\n",
       "      <td>3</td>\n",
       "      <td>3</td>\n",
       "      <td>1</td>\n",
       "      <td>1</td>\n",
       "    </tr>\n",
       "    <tr>\n",
       "      <th>3</th>\n",
       "      <td>4</td>\n",
       "      <td>1</td>\n",
       "      <td>1</td>\n",
       "      <td>3</td>\n",
       "      <td>2</td>\n",
       "      <td>1</td>\n",
       "      <td>0</td>\n",
       "      <td>1</td>\n",
       "    </tr>\n",
       "    <tr>\n",
       "      <th>4</th>\n",
       "      <td>4</td>\n",
       "      <td>2</td>\n",
       "      <td>3</td>\n",
       "      <td>3</td>\n",
       "      <td>1</td>\n",
       "      <td>3</td>\n",
       "      <td>1</td>\n",
       "      <td>1</td>\n",
       "    </tr>\n",
       "    <tr>\n",
       "      <th>...</th>\n",
       "      <td>...</td>\n",
       "      <td>...</td>\n",
       "      <td>...</td>\n",
       "      <td>...</td>\n",
       "      <td>...</td>\n",
       "      <td>...</td>\n",
       "      <td>...</td>\n",
       "      <td>...</td>\n",
       "    </tr>\n",
       "    <tr>\n",
       "      <th>1723</th>\n",
       "      <td>4</td>\n",
       "      <td>2</td>\n",
       "      <td>3</td>\n",
       "      <td>2</td>\n",
       "      <td>1</td>\n",
       "      <td>2</td>\n",
       "      <td>1</td>\n",
       "      <td>1</td>\n",
       "    </tr>\n",
       "    <tr>\n",
       "      <th>1724</th>\n",
       "      <td>2</td>\n",
       "      <td>1</td>\n",
       "      <td>3</td>\n",
       "      <td>3</td>\n",
       "      <td>2</td>\n",
       "      <td>2</td>\n",
       "      <td>0</td>\n",
       "      <td>1</td>\n",
       "    </tr>\n",
       "    <tr>\n",
       "      <th>1725</th>\n",
       "      <td>2</td>\n",
       "      <td>2</td>\n",
       "      <td>1</td>\n",
       "      <td>1</td>\n",
       "      <td>2</td>\n",
       "      <td>2</td>\n",
       "      <td>0</td>\n",
       "      <td>1</td>\n",
       "    </tr>\n",
       "    <tr>\n",
       "      <th>1726</th>\n",
       "      <td>3</td>\n",
       "      <td>3</td>\n",
       "      <td>4</td>\n",
       "      <td>3</td>\n",
       "      <td>1</td>\n",
       "      <td>2</td>\n",
       "      <td>1</td>\n",
       "      <td>1</td>\n",
       "    </tr>\n",
       "    <tr>\n",
       "      <th>1727</th>\n",
       "      <td>1</td>\n",
       "      <td>3</td>\n",
       "      <td>2</td>\n",
       "      <td>3</td>\n",
       "      <td>2</td>\n",
       "      <td>3</td>\n",
       "      <td>1</td>\n",
       "      <td>1</td>\n",
       "    </tr>\n",
       "  </tbody>\n",
       "</table>\n",
       "<p>1728 rows × 8 columns</p>\n",
       "</div>"
      ],
      "text/plain": [
       "      buying_price  maintenance_price  num_doors  num_persons  luggage_boot  \\\n",
       "0                3                  3          1            1             3   \n",
       "1                3                  3          1            3             1   \n",
       "2                2                  3          4            2             3   \n",
       "3                4                  1          1            3             2   \n",
       "4                4                  2          3            3             1   \n",
       "...            ...                ...        ...          ...           ...   \n",
       "1723             4                  2          3            2             1   \n",
       "1724             2                  1          3            3             2   \n",
       "1725             2                  2          1            1             2   \n",
       "1726             3                  3          4            3             1   \n",
       "1727             1                  3          2            3             2   \n",
       "\n",
       "      safety  acceptable  train  \n",
       "0          3           0      1  \n",
       "1          1           0      1  \n",
       "2          3           1      1  \n",
       "3          1           0      1  \n",
       "4          3           1      1  \n",
       "...      ...         ...    ...  \n",
       "1723       2           1      1  \n",
       "1724       2           0      1  \n",
       "1725       2           0      1  \n",
       "1726       2           1      1  \n",
       "1727       3           1      1  \n",
       "\n",
       "[1728 rows x 8 columns]"
      ]
     },
     "execution_count": 6,
     "metadata": {},
     "output_type": "execute_result"
    }
   ],
   "source": [
    "df = pd.read_csv(\"car_evaluation.csv\")\n",
    "print(\"Data exploration:\")\n",
    "df"
   ]
  },
  {
   "cell_type": "code",
   "execution_count": 7,
   "id": "7a6ede83",
   "metadata": {},
   "outputs": [
    {
     "name": "stdout",
     "output_type": "stream",
     "text": [
      "The number of training instances is: 1178\n",
      "The number of testing instances is: 550\n"
     ]
    }
   ],
   "source": [
    "#Creating relevant dataframees: \n",
    "train_df = df[df[\"train\"]==1]\n",
    "test_df = df[df[\"train\"]==0]\n",
    "#removing \"train\" labal\n",
    "train_df = train_df.drop(columns=[\"train\"])\n",
    "test_df = test_df.drop(columns=[\"train\"])\n",
    "\n",
    "print(f\"The number of training instances is: {train_df.shape[0]}\")\n",
    "print(f\"The number of testing instances is: {test_df.shape[0]}\")"
   ]
  },
  {
   "cell_type": "markdown",
   "id": "a8ac6f00",
   "metadata": {},
   "source": [
    "<b>Question 5:</b> We can see that there are 1728 data points, meaning we have 1729 \"cars\". We will train the algorithm over 1178 instances and the rest (550) will be used for testing. \n",
    "\n",
    "<b>Question 6:</b> each instance has 8 features, which are: buying_price, maintenance_price num_doors num_persons luggage_boot safety, acceptable. The last colum (\"train\") marks the set he instance belongs to, therfore it is not a feature. \n",
    "\n",
    "<b>Question 7:</b> The predicators are buying_price\tmaintenance_price num_doors\tnum_persons\tluggage_boot safety.\n",
    "\n",
    "<b>Question 8:</b> The label will be \"acceptable\", the very thing we are tring to predict. \n"
   ]
  },
  {
   "cell_type": "markdown",
   "id": "fd7b21ee",
   "metadata": {},
   "source": [
    "## Part 2"
   ]
  },
  {
   "cell_type": "markdown",
   "id": "bb7216da",
   "metadata": {},
   "source": [
    "<b>Question 9:</b> Funcrions from the tutorial: "
   ]
  },
  {
   "cell_type": "code",
   "execution_count": 8,
   "id": "64ddf8b0",
   "metadata": {},
   "outputs": [],
   "source": [
    "def get_XY(ndarray):\n",
    "    ndarray= ndarray.values\n",
    "    X=ndarray[:,:-1]\n",
    "    Y= ndarray[:,-1]\n",
    "    return X,Y\n",
    "#I've chaned the data format a bit so I chaned the func from the tutorial\n",
    "\n",
    "def get_clf(X,Y):\n",
    "    clf= DecisionTreeClassifier( criterion=\"gini\",  min_impurity_decrease=0.01)\n",
    "    clf.fit(X, Y)\n",
    "    return(clf)\n",
    "\n",
    "def get_pred(classifier, X):\n",
    "    y_pred = classifier.predict(X)\n",
    "    return(y_pred)"
   ]
  },
  {
   "cell_type": "markdown",
   "id": "e07e8035",
   "metadata": {},
   "source": [
    "<b>Question 9 (continue) :</b> Splitting the data to label colum and features matrix, building an object, fitting the training data"
   ]
  },
  {
   "cell_type": "code",
   "execution_count": 9,
   "id": "cb25aaf3",
   "metadata": {},
   "outputs": [],
   "source": [
    "X_train,Y_train = get_XY(train_df)\n",
    "X_test,Y_test = get_XY(test_df)\n",
    "clf=get_clf(X_train,Y_train)"
   ]
  },
  {
   "cell_type": "markdown",
   "id": "dcea00b8",
   "metadata": {},
   "source": [
    "\n",
    "<b>Question 10:</b> claculation the gini by the formula:\n",
    "\n",
    "$$ Gini(Root) = 1 - \\sum_{i\\in 'acceptable' label} (\\frac{|S_i|}{|S|})^2 $$"
   ]
  },
  {
   "cell_type": "code",
   "execution_count": 10,
   "id": "e6cf62fa",
   "metadata": {},
   "outputs": [
    {
     "name": "stdout",
     "output_type": "stream",
     "text": [
      "The gini of the root is 0.4162907405432361\n",
      "The gini after the split is 0.32415292026979703\n"
     ]
    }
   ],
   "source": [
    "def calc_gini(data):\n",
    "    \"\"\"\n",
    "    Input: any dataset where the last column holds the labels.\n",
    "    Returns the gini impurity.    \n",
    "    \"\"\"\n",
    "    gini = 1.0\n",
    "    for attribute in [0,1]: #0, 1 are the possible labels in \"accaptable\" colum\n",
    "        gini -= (data[data['acceptable']==attribute].shape[0]/data.shape[0])**2\n",
    "    \n",
    "    return gini\n",
    "\n",
    "print(f\"The gini of the root is {calc_gini(train_df)}\")\n",
    "\n",
    "train_df_safty_smaller_than_1_5 = train_df[train_df['safety']<=1.5]\n",
    "train_df_safty_bigger_than_1_5 = train_df[train_df['safety']>1.5]\n",
    "\n",
    "weight1 = train_df_safty_smaller_than_1_5.shape[0]/train_df.shape[0]\n",
    "weight2 = train_df_safty_bigger_than_1_5.shape[0]/train_df.shape[0]\n",
    "\n",
    "gini_after_split = weight1 * calc_gini(train_df_safty_smaller_than_1_5)\n",
    "gini_after_split += weight2 * calc_gini(train_df_safty_bigger_than_1_5)\n",
    "\n",
    "print(f\"The gini after the split is {gini_after_split}\")"
   ]
  },
  {
   "cell_type": "markdown",
   "id": "7c11022a",
   "metadata": {},
   "source": [
    "Dear tutor, note that the gini index that takes into consideretion the \"safty\" feature is the the root childs, its calculated again after the split with the safty <= 1.5 condition. The algorithm chooses 'safty' as the first attribute because we get the <b> largest loss in uncertinty</b> under that one in the current data set.\n",
    "\n",
    "<b>Question 11:</b> \n",
    "\n",
    "• Car with a low buying price, very high maintenance price, 3 doors, 2 persons can be carried, medium luggage boot and low in safety - \n",
    "\n",
    "\n",
    "low in saftey <= 1 means left node (True), we have reached a leaf of class -><b> Unaccepable </b>\n",
    "\n",
    "• Car with a high or very high buying price, medium maintenance price, 4 doors, 4 or more persons can be carried, big luggage boot and medium or high in safety.\n",
    "    \n",
    " False (medium or high is bigger than 1.5) -> False (4 persons or more) -> True (buying price==1) -> False (maintanence price == 3) ->  False (luggage_boot == 3) ->  <b>Acceptable</b>\n",
    "\n",
    "• Car with a medium buying, low maintenance price, 2 doors, 2 persons can be carried, small luggage boot and medium or high in safety.\n",
    "    \n",
    " False (medium or high) -> (num_of_persons == 1) True -> <b>Unacceptable\n",
    "    \n",
    "<b> Automated test to check my answers </b>:\n",
    "    "
   ]
  },
  {
   "cell_type": "code",
   "execution_count": 11,
   "id": "8bb447b0",
   "metadata": {},
   "outputs": [
    {
     "name": "stdout",
     "output_type": "stream",
     "text": [
      "The predictions:\n",
      "Instance 1 is Unaccepable \n",
      "Instance 2 is Accepable \n",
      "Instance 3 is Unaccepable \n",
      "\n",
      " Note the vectors:\n"
     ]
    },
    {
     "name": "stderr",
     "output_type": "stream",
     "text": [
      "C:\\Users\\Yotga\\anaconda3\\lib\\site-packages\\sklearn\\base.py:443: UserWarning: X has feature names, but DecisionTreeClassifier was fitted without feature names\n",
      "  warnings.warn(\n"
     ]
    },
    {
     "data": {
      "text/html": [
       "<div>\n",
       "<style scoped>\n",
       "    .dataframe tbody tr th:only-of-type {\n",
       "        vertical-align: middle;\n",
       "    }\n",
       "\n",
       "    .dataframe tbody tr th {\n",
       "        vertical-align: top;\n",
       "    }\n",
       "\n",
       "    .dataframe thead th {\n",
       "        text-align: right;\n",
       "    }\n",
       "</style>\n",
       "<table border=\"1\" class=\"dataframe\">\n",
       "  <thead>\n",
       "    <tr style=\"text-align: right;\">\n",
       "      <th></th>\n",
       "      <th>buying_price</th>\n",
       "      <th>maintenance_price</th>\n",
       "      <th>num_doors</th>\n",
       "      <th>num_persons</th>\n",
       "      <th>luggage_boot</th>\n",
       "      <th>safety</th>\n",
       "    </tr>\n",
       "  </thead>\n",
       "  <tbody>\n",
       "    <tr>\n",
       "      <th>0</th>\n",
       "      <td>4</td>\n",
       "      <td>1</td>\n",
       "      <td>2</td>\n",
       "      <td>1</td>\n",
       "      <td>2</td>\n",
       "      <td>1</td>\n",
       "    </tr>\n",
       "    <tr>\n",
       "      <th>1</th>\n",
       "      <td>2</td>\n",
       "      <td>3</td>\n",
       "      <td>2</td>\n",
       "      <td>2</td>\n",
       "      <td>3</td>\n",
       "      <td>3</td>\n",
       "    </tr>\n",
       "    <tr>\n",
       "      <th>2</th>\n",
       "      <td>3</td>\n",
       "      <td>4</td>\n",
       "      <td>1</td>\n",
       "      <td>1</td>\n",
       "      <td>1</td>\n",
       "      <td>2</td>\n",
       "    </tr>\n",
       "  </tbody>\n",
       "</table>\n",
       "</div>"
      ],
      "text/plain": [
       "   buying_price  maintenance_price  num_doors  num_persons  luggage_boot  \\\n",
       "0             4                  1          2            1             2   \n",
       "1             2                  3          2            2             3   \n",
       "2             3                  4          1            1             1   \n",
       "\n",
       "   safety  \n",
       "0       1  \n",
       "1       3  \n",
       "2       2  "
      ]
     },
     "execution_count": 11,
     "metadata": {},
     "output_type": "execute_result"
    }
   ],
   "source": [
    "question_11_df = pd.read_csv(\"question11.csv\")\n",
    "answers = get_pred(clf,question_11_df)\n",
    "answer_dict={\n",
    "    0: \"Unaccepable\",\n",
    "    1: \"Accepable\"\n",
    "}\n",
    "print(\"The predictions:\")\n",
    "for i in range(3):\n",
    "    print(f\"Instance {i+1} is {answer_dict[answers[i]]} \")\n",
    "print(\"\\n Note the vectors:\")\n",
    "question_11_df"
   ]
  },
  {
   "cell_type": "markdown",
   "id": "09e00092",
   "metadata": {},
   "source": [
    "### Task 4:"
   ]
  },
  {
   "cell_type": "markdown",
   "id": "8aa240a7",
   "metadata": {},
   "source": [
    "<b>Question 12 + 13 + 14</b>:  making predictions for the test set, comparing the predictions to the true label of the test set: "
   ]
  },
  {
   "cell_type": "code",
   "execution_count": 12,
   "id": "e8ec178d",
   "metadata": {},
   "outputs": [
    {
     "name": "stdout",
     "output_type": "stream",
     "text": [
      "Accuracy is 0.92\n"
     ]
    }
   ],
   "source": [
    "def get_accuracy(test,pred): \n",
    "    accuracy = metrics.accuracy_score(test, pred)\n",
    "    return accuracy\n",
    "\n",
    "y_pred = get_pred(clf, X_test)\n",
    "clf_accuracy=get_accuracy(Y_test,y_pred) \n",
    "\n",
    "print(f\"Accuracy is {clf_accuracy}\")"
   ]
  },
  {
   "cell_type": "markdown",
   "id": "4084e914",
   "metadata": {},
   "source": [
    "<b>note:</b> The accuracy is 0.92, meaning that \n",
    "$$ 0.98 = \\frac{|TruePositive| +  |TrueNegative|}{|Test set|} $$\n",
    "\n",
    "We are \"right\" for 0.92 precent of the total instances (predictions). We need to check that the model isn't biased towards Positive or Negative results with TNR and TPR metrics, which we can calculare from the confution matrix: \n",
    "\n",
    "\n",
    " $$True Positive Rate = \\frac{|True Positive Predictions|}{|All Positive Predictions|} $$\n",
    "\n",
    " $$True Negative Rate = \\frac{|True Negative Predictions|}{|All Negative Predictions|} $$\n",
    " \n",
    " Note: in our case, because we are trying to predict the Acceptance of a car, if we won't mind offering alot of people cars, we will prefer the model to be biased towards Positive predictions (small FN, big FP)"
   ]
  },
  {
   "cell_type": "code",
   "execution_count": 13,
   "id": "ada7834c",
   "metadata": {},
   "outputs": [
    {
     "name": "stdout",
     "output_type": "stream",
     "text": [
      "TNR Accuracy is 0.9210526315789473\n",
      "TPR Accuracy is 0.9176470588235294\n"
     ]
    }
   ],
   "source": [
    "X_test_false,Y_test_false = get_XY(test_df[test_df[\"acceptable\"]==0])\n",
    "Y_test_false_pred = get_pred(clf, X_test_false)\n",
    "TNR_accuracy=get_accuracy(Y_test_false_pred,Y_test_false) \n",
    "print(f\"TNR Accuracy is {TNR_accuracy}\")\n",
    "\n",
    "X_test_true,Y_test_true = get_XY(test_df[test_df[\"acceptable\"]==1])\n",
    "Y_test_true_pred = get_pred(clf, X_test_true)\n",
    "TPR_accuracy=get_accuracy(Y_test_true_pred,Y_test_true) \n",
    "print(f\"TPR Accuracy is {TPR_accuracy}\")\n"
   ]
  },
  {
   "cell_type": "code",
   "execution_count": 14,
   "id": "6ca3065f",
   "metadata": {},
   "outputs": [
    {
     "name": "stdout",
     "output_type": "stream",
     "text": [
      "Fun TASK!! \n"
     ]
    }
   ],
   "source": [
    "print(\"Fun TASK!! \")"
   ]
  },
  {
   "cell_type": "markdown",
   "id": "93e62909",
   "metadata": {},
   "source": [
    "<b>(my own tests, not for grading): Making sure the tree is the same: </b> "
   ]
  },
  {
   "cell_type": "code",
   "execution_count": 15,
   "id": "f22928de",
   "metadata": {},
   "outputs": [
    {
     "data": {
      "image/png": "[encoded data removed]",
      "text/plain": [
       "<IPython.core.display.Image object>"
      ]
     },
     "execution_count": 15,
     "metadata": {},
     "output_type": "execute_result"
    }
   ],
   "source": [
    "import pydotplus\n",
    "import os\n",
    "from IPython.display import Image\n",
    "\n",
    "def get_predictors_names(dataframe):\n",
    "    names = list(dataframe.columns)\n",
    "    predictors_names=names[:-1]\n",
    "    return predictors_names\n",
    "\n",
    "df_predictors_names = get_predictors_names(train_df)\n",
    "df_class_names=['Uncceptable','Acceptable']\n",
    "def get_graph(clf,df_predictors_names):\n",
    "    dot_data = tree.export_graphviz(clf, out_file=None, feature_names=df_predictors_names, class_names=df_class_names)\n",
    "    graph = pydotplus.graph_from_dot_data(dot_data) \n",
    "    return graph\n",
    "\n",
    "graph =get_graph(clf,df_predictors_names)\n",
    "def save_graph(grpah):\n",
    "    graph.write_pdf(\"DT flights.pdf\")\n",
    "    graph.write_jpg(\"DT flights.jpg\")\n",
    "save_graph(graph)\n",
    "\n",
    "def get_image(graph):\n",
    "    image = Image(graph.create_png())\n",
    "    return image\n",
    "image = get_image(graph)\n",
    "image"
   ]
  },
  {
   "cell_type": "code",
   "execution_count": null,
   "id": "1bf66a43",
   "metadata": {},
   "outputs": [],
   "source": []
  }
 ],
 "metadata": {
  "kernelspec": {
   "display_name": "Python 3 (ipykernel)",
   "language": "python",
   "name": "python3"
  },
  "language_info": {
   "codemirror_mode": {
    "name": "ipython",
    "version": 3
   },
   "file_extension": ".py",
   "mimetype": "text/x-python",
   "name": "python",
   "nbconvert_exporter": "python",
   "pygments_lexer": "ipython3",
   "version": "3.9.12"
  }
 },
 "nbformat": 4,
 "nbformat_minor": 5
}
