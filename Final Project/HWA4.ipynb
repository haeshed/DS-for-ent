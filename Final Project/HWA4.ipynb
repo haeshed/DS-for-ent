{
 "cells": [
  {
   "cell_type": "code",
   "execution_count": 71,
   "metadata": {},
   "outputs": [],
   "source": [
    "import numpy as np # used for scientific computing\n",
    "from sklearn.model_selection import train_test_split\n",
    "from sklearn.preprocessing import PolynomialFeatures\n",
    "from sklearn.linear_model import LinearRegression\n",
    "from sklearn.metrics import mean_squared_error\n",
    "import pandas as pd # used for data analysis and manipulation\n",
    "import matplotlib.pyplot as plt # used for visualization and plotting\n",
    "import matplotlib.cm as cm\n",
    "import scipy as sp\n",
    "import pprint\n",
    "from sklearn.tree import DecisionTreeClassifier\n",
    "from sklearn import tree\n",
    "from sklearn.datasets import load_iris\n",
    "from sklearn import metrics\n",
    "import dtreeviz.trees\n",
    "from sklearn.model_selection import train_test_split\n",
    "import statsmodels.api as sm\n",
    "from scipy import stats\n"
   ]
  },
  {
   "cell_type": "code",
   "execution_count": 67,
   "metadata": {},
   "outputs": [
    {
     "data": {
      "text/plain": [
       "84"
      ]
     },
     "execution_count": 67,
     "metadata": {},
     "output_type": "execute_result"
    }
   ],
   "source": [
    "df = pd.read_csv('inner_data.csv')\n",
    "column_headers = list(df.columns.values)\n",
    "data = df.to_numpy()\n",
    "len(column_headers)\n",
    "# data"
   ]
  },
  {
   "cell_type": "code",
   "execution_count": 68,
   "metadata": {},
   "outputs": [
    {
     "data": {
      "text/plain": [
       "(493, 82)"
      ]
     },
     "execution_count": 68,
     "metadata": {},
     "output_type": "execute_result"
    }
   ],
   "source": [
    "data = data[:, 1:]\n",
    "data = data[:, 1:]\n",
    "column_headers.pop(0)\n",
    "column_headers.pop(0)\n",
    "data.shape\n",
    "# len(column_headers)"
   ]
  },
  {
   "cell_type": "code",
   "execution_count": 173,
   "metadata": {},
   "outputs": [],
   "source": [
    "def provide_best_features(X_train_poly, X_test_poly, y_train, y_test, thresh=0.1):\n",
    "    # Train the polynomial regression model\n",
    "    model = LinearRegression()\n",
    "    print(X_train_poly.shape, y_train.shape)\n",
    "    model.fit(X_train_poly, y_train)\n",
    "    # Predict on the testing set\n",
    "    y_pred = model.predict(X_test_poly)\n",
    "\n",
    "    # # Calculate mean squared error\n",
    "    mse = mean_squared_error(y_test, y_pred)\n",
    "    print(\"Mean Squared Error:\", mse)\n",
    "    pred_comparison_df = pd.DataFrame({'Actual': y_test, 'Predicted': y_pred})\n",
    "    pred_comparison_df[\"True/False\"] = np.abs(pred_comparison_df[\"Actual\"] - pred_comparison_df[\"Predicted\"]) < thresh        \n",
    "    print(pred_comparison_df[\"True/False\"].value_counts(normalize=True))\n",
    "    \n",
    "    feature_coefficients = np.abs(model.coef_)\n",
    "    # Get the indices of the top 5 features with the highest coefficients\n",
    "    top5_indices = np.argsort(feature_coefficients)[-5:]\n",
    "    # print(top5_indices)\n",
    "    # Get the names of the top 5 features\n",
    "    top5_features = poly_names[top5_indices]  # Replace 'feature_names' with the actual names of your features\n",
    "\n",
    "    # Print the top 5 features\n",
    "    # print(\"Top 5 Features:\")\n",
    "    # for feature in top5_features:\n",
    "    #     print(feature)\n",
    "    return top5_features, top5_indices"
   ]
  },
  {
   "cell_type": "code",
   "execution_count": 135,
   "metadata": {},
   "outputs": [],
   "source": [
    "def linear_to_poly_data(X_train, X_test, degree):\n",
    "    # Create polynomial features\n",
    "    poly_features = PolynomialFeatures(degree=degree)\n",
    "    X_train_poly = poly_features.fit_transform(X_train)\n",
    "    X_test_poly = poly_features.transform(X_test)\n",
    "    poly_names = poly_features.get_feature_names_out()\n",
    "\n",
    "    return X_train_poly, X_test_poly\n",
    "    "
   ]
  },
  {
   "cell_type": "code",
   "execution_count": 132,
   "metadata": {},
   "outputs": [],
   "source": [
    "def split_data_by_feature(X, y, feature):\n",
    "    X = np.delete(data, i, axis=1)\n",
    "    y = data[:, i]\n",
    "\n",
    "    # Split the data into training and testing sets\n",
    "    X_train, X_test, y_train, y_test = train_test_split(X, y, test_size=0.2, random_state=42)\n",
    "    return X_train, X_test, y_train, y_test"
   ]
  },
  {
   "cell_type": "code",
   "execution_count": 176,
   "metadata": {},
   "outputs": [
    {
     "name": "stdout",
     "output_type": "stream",
     "text": [
      "\n",
      "feature to predict:  0\n",
      "(394, 82) (394,)\n",
      "Mean Squared Error: 0.006284616778804066\n",
      "True/False\n",
      "True     0.818182\n",
      "False    0.181818\n",
      "Name: proportion, dtype: float64\n",
      "[60 50 17 80 39]\n",
      "predict only with top 5 features:\n",
      "(394, 5) (394,)\n",
      "Mean Squared Error: 0.010226486361963875\n",
      "True/False\n",
      "True     0.747475\n",
      "False    0.252525\n",
      "Name: proportion, dtype: float64\n",
      "[0 3 2 4 1]\n",
      "\n",
      "\n",
      "feature to predict:  1\n",
      "(394, 82) (394,)\n",
      "Mean Squared Error: 0.007866096390748128\n",
      "True/False\n",
      "True     0.747475\n",
      "False    0.252525\n",
      "Name: proportion, dtype: float64\n",
      "[43 39 22  2 25]\n",
      "predict only with top 5 features:\n",
      "(394, 5) (394,)\n",
      "Mean Squared Error: 0.02230874036628839\n",
      "True/False\n",
      "True     0.565657\n",
      "False    0.434343\n",
      "Name: proportion, dtype: float64\n",
      "[1 0 2 3 4]\n",
      "\n",
      "\n",
      "feature to predict:  2\n",
      "(394, 82) (394,)\n",
      "Mean Squared Error: 0.0041757150479603\n",
      "True/False\n",
      "True     0.89899\n",
      "False    0.10101\n",
      "Name: proportion, dtype: float64\n",
      "[17 27 39 30 25]\n",
      "predict only with top 5 features:\n",
      "(394, 5) (394,)\n",
      "Mean Squared Error: 0.006854984930857329\n",
      "True/False\n",
      "True     0.828283\n",
      "False    0.171717\n",
      "Name: proportion, dtype: float64\n",
      "[2 1 3 4 0]\n",
      "\n",
      "\n",
      "feature to predict:  3\n",
      "(394, 82) (394,)\n",
      "Mean Squared Error: 0.0041840991610198565\n",
      "True/False\n",
      "True     0.888889\n",
      "False    0.111111\n",
      "Name: proportion, dtype: float64\n",
      "[21 59 62 34 80]\n",
      "predict only with top 5 features:\n",
      "(394, 5) (394,)\n",
      "Mean Squared Error: 0.007190691499906266\n",
      "True/False\n",
      "True     0.848485\n",
      "False    0.151515\n",
      "Name: proportion, dtype: float64\n",
      "[0 1 2 3 4]\n",
      "\n",
      "\n",
      "feature to predict:  4\n",
      "(394, 82) (394,)\n",
      "Mean Squared Error: 0.014954836768150423\n",
      "True/False\n",
      "True     0.69697\n",
      "False    0.30303\n",
      "Name: proportion, dtype: float64\n",
      "[27 17 14 39 80]\n",
      "predict only with top 5 features:\n",
      "(394, 5) (394,)\n",
      "Mean Squared Error: 0.01953981403304763\n",
      "True/False\n",
      "True     0.525253\n",
      "False    0.474747\n",
      "Name: proportion, dtype: float64\n",
      "[2 0 3 1 4]\n",
      "\n",
      "[array([60, 50, 17, 80, 39], dtype=int64), array([43, 39, 22,  2, 25], dtype=int64), array([17, 27, 39, 30, 25], dtype=int64), array([21, 59, 62, 34, 80], dtype=int64), array([27, 17, 14, 39, 80], dtype=int64)]\n"
     ]
    }
   ],
   "source": [
    "# run the program\n",
    "degree=1\n",
    "best_features = []\n",
    "for i in range(5):\n",
    "    print(\"\\nfeature to predict: \",i)\n",
    "    X_train, X_test, y_train, y_test = split_data_by_feature(X, y, i)\n",
    "    X_train_poly, X_test_poly = linear_to_poly_data(X_train, X_test, degree)\n",
    "    best_features.append(provide_best_features(X_train_poly, X_test_poly, y_train, y_test)[1])\n",
    "    print(\"predict only with top 5 features:\")\n",
    "    X_train_only_best, X_test_only_best = X_train_poly[:, best_features[i]], X_test_poly[:, best_features[i]]\n",
    "    provide_best_features(X_train_only_best, X_test_only_best, y_train, y_test)\n",
    "    print()\n",
    "\n",
    "print(best_features)\n",
    "    "
   ]
  },
  {
   "cell_type": "code",
   "execution_count": 166,
   "metadata": {},
   "outputs": [
    {
     "name": "stdout",
     "output_type": "stream",
     "text": [
      "[array([60, 50, 17, 80, 39], dtype=int64), array([43, 39, 22,  2, 25], dtype=int64)]\n",
      "(394, 5) (99, 5)\n",
      "(394, 5) (394,)\n",
      "Mean Squared Error: 0.023016675880933684\n",
      "True/False\n",
      "False    0.565657\n",
      "True     0.434343\n",
      "Name: proportion, dtype: float64\n",
      "[3 0 1 4 2]\n",
      "Top 5 Features:\n",
      "x2\n",
      "1\n",
      "x0\n",
      "x3\n",
      "x1\n"
     ]
    },
    {
     "data": {
      "text/plain": [
       "(array(['x2', '1', 'x0', 'x3', 'x1'], dtype=object),\n",
       " array([3, 0, 1, 4, 2], dtype=int64))"
      ]
     },
     "execution_count": 166,
     "metadata": {},
     "output_type": "execute_result"
    }
   ],
   "source": [
    "print(best_features)\n",
    "X_train_only_best, X_test_only_best = X_train_poly[:, best_features[0]], X_test_poly[:, best_features[0]]\n",
    "print(X_train_only_best.shape, X_test_only_best.shape)\n",
    "provide_best_features(X_train_only_best, X_test_only_best, y_train, y_test)"
   ]
  }
 ],
 "metadata": {
  "kernelspec": {
   "display_name": "Python 3",
   "language": "python",
   "name": "python3"
  },
  "language_info": {
   "codemirror_mode": {
    "name": "ipython",
    "version": 3
   },
   "file_extension": ".py",
   "mimetype": "text/x-python",
   "name": "python",
   "nbconvert_exporter": "python",
   "pygments_lexer": "ipython3",
   "version": "3.10.11"
  },
  "orig_nbformat": 4
 },
 "nbformat": 4,
 "nbformat_minor": 2
}
