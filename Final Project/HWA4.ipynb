{
 "cells": [
  {
   "cell_type": "code",
   "execution_count": 71,
   "metadata": {},
   "outputs": [],
   "source": [
    "import numpy as np # used for scientific computing\n",
    "from sklearn.model_selection import train_test_split\n",
    "from sklearn.preprocessing import PolynomialFeatures\n",
    "from sklearn.linear_model import LinearRegression\n",
    "from sklearn.metrics import mean_squared_error\n",
    "import pandas as pd # used for data analysis and manipulation\n",
    "import matplotlib.pyplot as plt # used for visualization and plotting\n",
    "import matplotlib.cm as cm\n",
    "import scipy as sp\n",
    "import pprint\n",
    "from sklearn.tree import DecisionTreeClassifier\n",
    "from sklearn import tree\n",
    "from sklearn.datasets import load_iris\n",
    "from sklearn import metrics\n",
    "import dtreeviz.trees\n",
    "from sklearn.model_selection import train_test_split\n",
    "import statsmodels.api as sm\n",
    "from scipy import stats\n"
   ]
  },
  {
   "cell_type": "code",
   "execution_count": 67,
   "metadata": {},
   "outputs": [
    {
     "data": {
      "text/plain": [
       "84"
      ]
     },
     "execution_count": 67,
     "metadata": {},
     "output_type": "execute_result"
    }
   ],
   "source": [
    "df = pd.read_csv('inner_data.csv')\n",
    "column_headers = list(df.columns.values)\n",
    "data = df.to_numpy()\n",
    "len(column_headers)\n",
    "# data"
   ]
  },
  {
   "cell_type": "code",
   "execution_count": 68,
   "metadata": {},
   "outputs": [
    {
     "data": {
      "text/plain": [
       "(493, 82)"
      ]
     },
     "execution_count": 68,
     "metadata": {},
     "output_type": "execute_result"
    }
   ],
   "source": [
    "data = data[:, 1:]\n",
    "data = data[:, 1:]\n",
    "column_headers.pop(0)\n",
    "column_headers.pop(0)\n",
    "data.shape\n",
    "# len(column_headers)"
   ]
  },
  {
   "cell_type": "code",
   "execution_count": 128,
   "metadata": {},
   "outputs": [],
   "source": [
    "# Assuming you have your data stored in a numpy array called 'data'\n",
    "# The first 81 columns are the features and the 82nd column is the label\n",
    "\n",
    "# Split the data into features (X) and label (y)\n",
    "# Select all rows and columns except the last one\n",
    "# X = data[:, :-1]\n",
    "# # Select all rows and the last column\n",
    "# y = data[:, -1]   \n",
    "\n",
    "# # Split the data into training and testing sets\n",
    "# X_train, X_test, y_train, y_test = train_test_split(X, y, test_size=0.2, random_state=42)\n",
    "\n",
    "def provide_best_features(X_train_poly, X_test_poly, y_train, y_test):\n",
    "    # print(len(column_headers))\n",
    "    # print(*poly_names)\n",
    "\n",
    "    # Train the polynomial regression model\n",
    "    model = LinearRegression()\n",
    "    model.fit(X_train_poly, y_train)\n",
    "\n",
    "    # Predict on the testing set\n",
    "    y_pred = model.predict(X_test_poly)\n",
    "\n",
    "    # # Calculate mean squared error\n",
    "    mse = mean_squared_error(y_test, y_pred)\n",
    "    print(\"Mean Squared Error:\", mse)\n",
    "    pred_comparison_df = pd.DataFrame({'Actual': y_test, 'Predicted': y_pred})\n",
    "    pred_comparison_df[\"True/False\"] = np.abs(pred_comparison_df[\"Actual\"] - pred_comparison_df[\"Predicted\"]) < 0.1        \n",
    "    print(pred_comparison_df[\"True/False\"].value_counts(normalize=True))\n",
    "    # print(pred_comparison_df)\n",
    "\n",
    "    feature_coefficients = np.abs(model.coef_)\n",
    "\n",
    "    # Get the indices of the top 5 features with the highest coefficients\n",
    "    top5_indices = np.argsort(feature_coefficients)[-5:]\n",
    "    print(top5_indices)\n",
    "    # Get the names of the top 5 features\n",
    "    top5_features = poly_names[top5_indices]  # Replace 'feature_names' with the actual names of your features\n",
    "\n",
    "    # Print the top 5 features\n",
    "    print(\"Top 5 Features:\")\n",
    "    for feature in top5_features:\n",
    "        print(feature)\n",
    "    return top5_features, top5_indices"
   ]
  },
  {
   "cell_type": "code",
   "execution_count": null,
   "metadata": {},
   "outputs": [],
   "source": [
    "def linear_to_poly_data(X_train, X_test):\n",
    "    # Create polynomial features\n",
    "    degree = 2  # Choose the degree of the polynomial\n",
    "    # poly=PolynomialFeatures(degree=2)\n",
    "    poly_features = PolynomialFeatures(degree=degree)\n",
    "    X_train_poly = poly_features.fit_transform(X_train)\n",
    "    X_test_poly = poly_features.transform(X_test)\n",
    "    poly_names = poly_features.get_feature_names_out()\n",
    "\n",
    "    return X_train_poly, X_test_poly\n",
    "    "
   ]
  },
  {
   "cell_type": "code",
   "execution_count": 83,
   "metadata": {},
   "outputs": [
    {
     "data": {
      "text/plain": [
       "statsmodels.regression.linear_model.RegressionResultsWrapper"
      ]
     },
     "execution_count": 83,
     "metadata": {},
     "output_type": "execute_result"
    }
   ],
   "source": [
    "model = LinearRegression()\n",
    "# X_train_poly = sm.add_constant(X_train_poly)\n",
    "#fit linear regression model\n",
    "model = sm.OLS(y_train, X_train_poly).fit()\n",
    "type(model)\n",
    "# model.summary()\n",
    "\n"
   ]
  },
  {
   "cell_type": "code",
   "execution_count": 117,
   "metadata": {},
   "outputs": [],
   "source": [
    "def split_data_by_feature(X, y, feature):\n",
    "    X = np.delete(data, i, axis=1)\n",
    "    y = data[:, i]\n",
    "\n",
    "    # Split the data into training and testing sets\n",
    "    X_train, X_test, y_train, y_test = train_test_split(X, y, test_size=0.2, random_state=42)\n",
    "    return X_train, X_test, y_train, y_test"
   ]
  },
  {
   "cell_type": "code",
   "execution_count": 125,
   "metadata": {},
   "outputs": [
    {
     "name": "stdout",
     "output_type": "stream",
     "text": [
      "\n",
      "feature to predict:  0\n",
      "Mean Squared Error: 0.0021251633989570716\n",
      "True/False\n",
      "True     0.929293\n",
      "False    0.070707\n",
      "Name: proportion, dtype: float64\n",
      "[  57 2001 1380   78   37]\n",
      "Top 5 Features:\n",
      "x56\n",
      "x28 x57\n",
      "x17 x74\n",
      "x77\n",
      "x36\n",
      "[array([  57, 2001, 1380,   78,   37], dtype=int64)]\n"
     ]
    }
   ],
   "source": [
    "# for i in range(len(column_headers)):\n",
    "best_features = []\n",
    "for i in range(1):\n",
    "    print(\"\\nfeature to predict: \",i)\n",
    "    X_train, X_test, y_train, y_test = split_data_by_feature(X, y, i)\n",
    "    best_features.append(provide_best_features(X_train, X_test, y_train, y_test)[1])\n",
    "\n",
    "print(best_features)\n",
    "    "
   ]
  },
  {
   "cell_type": "code",
   "execution_count": 127,
   "metadata": {},
   "outputs": [
    {
     "ename": "IndexError",
     "evalue": "index 2001 is out of bounds for axis 1 with size 81",
     "output_type": "error",
     "traceback": [
      "\u001b[1;31m---------------------------------------------------------------------------\u001b[0m",
      "\u001b[1;31mIndexError\u001b[0m                                Traceback (most recent call last)",
      "Cell \u001b[1;32mIn[127], line 1\u001b[0m\n\u001b[1;32m----> 1\u001b[0m X \u001b[39m=\u001b[39m X_train[:, best_features]\n",
      "\u001b[1;31mIndexError\u001b[0m: index 2001 is out of bounds for axis 1 with size 81"
     ]
    }
   ],
   "source": [
    "X = X_train[:, best_features]\n"
   ]
  }
 ],
 "metadata": {
  "kernelspec": {
   "display_name": "Python 3",
   "language": "python",
   "name": "python3"
  },
  "language_info": {
   "codemirror_mode": {
    "name": "ipython",
    "version": 3
   },
   "file_extension": ".py",
   "mimetype": "text/x-python",
   "name": "python",
   "nbconvert_exporter": "python",
   "pygments_lexer": "ipython3",
   "version": "3.10.11"
  },
  "orig_nbformat": 4
 },
 "nbformat": 4,
 "nbformat_minor": 2
}
