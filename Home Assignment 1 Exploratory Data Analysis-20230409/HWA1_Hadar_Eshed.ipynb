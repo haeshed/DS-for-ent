{
 "cells": [
  {
   "attachments": {},
   "cell_type": "markdown",
   "id": "e18b6db8",
   "metadata": {},
   "source": [
    "Task 2"
   ]
  },
  {
   "cell_type": "code",
   "execution_count": 2,
   "id": "57a4c169",
   "metadata": {},
   "outputs": [],
   "source": [
    "import numpy as np # used for scientific computing\n",
    "import pandas as pd # used for data analysis and manipulation\n",
    "import matplotlib.pyplot as plt # used for visualization and plotting\n",
    "import scipy as sp\n",
    "np.random.seed(42) "
   ]
  },
  {
   "attachments": {},
   "cell_type": "markdown",
   "id": "e924886e",
   "metadata": {},
   "source": [
    "Task 3: DESCRIBE STATISTICS"
   ]
  },
  {
   "cell_type": "code",
   "execution_count": 3,
   "id": "d956108d",
   "metadata": {},
   "outputs": [
    {
     "name": "stdout",
     "output_type": "stream",
     "text": [
      "num rows: 48895\n",
      "num cols: 16\n"
     ]
    }
   ],
   "source": [
    "df = pd.read_csv('abb_nyc_data.csv')\n",
    "print(\"num rows: \"+str(df.shape[0]))\n",
    "print(\"num cols: \"+str(df.shape[1]))"
   ]
  },
  {
   "attachments": {},
   "cell_type": "markdown",
   "id": "e6d67434",
   "metadata": {},
   "source": [
    "Apartments' neighborhoods in rows 4 till 9:"
   ]
  },
  {
   "cell_type": "code",
   "execution_count": 4,
   "id": "4301f0cc",
   "metadata": {},
   "outputs": [
    {
     "data": {
      "text/plain": [
       "4           East Harlem\n",
       "5           Murray Hill\n",
       "6    Bedford-Stuyvesant\n",
       "7        Hell's Kitchen\n",
       "8       Upper West Side\n",
       "9             Chinatown\n",
       "Name: neighbourhood, dtype: object"
      ]
     },
     "execution_count": 4,
     "metadata": {},
     "output_type": "execute_result"
    }
   ],
   "source": [
    "df.loc[4:9,\"neighbourhood\"]"
   ]
  },
  {
   "attachments": {},
   "cell_type": "markdown",
   "id": "969adce1",
   "metadata": {},
   "source": [
    "Unique room types:"
   ]
  },
  {
   "cell_type": "code",
   "execution_count": 5,
   "id": "75c75527",
   "metadata": {},
   "outputs": [
    {
     "data": {
      "text/plain": [
       "3"
      ]
     },
     "execution_count": 5,
     "metadata": {},
     "output_type": "execute_result"
    }
   ],
   "source": [
    "df[\"room_type\"].nunique()"
   ]
  },
  {
   "attachments": {},
   "cell_type": "markdown",
   "id": "a991cc3c",
   "metadata": {},
   "source": [
    "Apartments over 1000$ a night:"
   ]
  },
  {
   "cell_type": "code",
   "execution_count": 6,
   "id": "b7398268",
   "metadata": {},
   "outputs": [
    {
     "data": {
      "text/plain": [
       "239"
      ]
     },
     "execution_count": 6,
     "metadata": {},
     "output_type": "execute_result"
    }
   ],
   "source": [
    "df[df[\"price_per_night\"]>1000].shape[0]"
   ]
  },
  {
   "attachments": {},
   "cell_type": "markdown",
   "id": "c517c273",
   "metadata": {},
   "source": [
    "Last review was on:"
   ]
  },
  {
   "cell_type": "code",
   "execution_count": 30,
   "metadata": {},
   "outputs": [
    {
     "data": {
      "text/plain": [
       "Timestamp('2018-10-19 00:00:00')"
      ]
     },
     "execution_count": 30,
     "metadata": {},
     "output_type": "execute_result"
    }
   ],
   "source": [
    "pd.to_datetime(df[\"last_review\"],dayfirst=True).sort_values(ascending=False)[0]"
   ]
  },
  {
   "attachments": {},
   "cell_type": "markdown",
   "id": "2925a72c",
   "metadata": {},
   "source": [
    "Standard deviation of price per night:"
   ]
  },
  {
   "cell_type": "code",
   "execution_count": 8,
   "id": "a669532b",
   "metadata": {},
   "outputs": [
    {
     "data": {
      "text/plain": [
       "240.15416974718758"
      ]
     },
     "execution_count": 8,
     "metadata": {},
     "output_type": "execute_result"
    }
   ],
   "source": [
    "df.describe()[\"price_per_night\"][2]"
   ]
  },
  {
   "attachments": {},
   "cell_type": "markdown",
   "id": "813c0690",
   "metadata": {},
   "source": [
    "Lowest number of reviews:"
   ]
  },
  {
   "cell_type": "code",
   "execution_count": 9,
   "id": "467b3047",
   "metadata": {},
   "outputs": [
    {
     "data": {
      "text/plain": [
       "0"
      ]
     },
     "execution_count": 9,
     "metadata": {},
     "output_type": "execute_result"
    }
   ],
   "source": [
    "df[\"number_of_reviews\"].min()"
   ]
  },
  {
   "attachments": {},
   "cell_type": "markdown",
   "id": "3ef6b1c3",
   "metadata": {},
   "source": [
    "Highest latitude:\n",
    "\n",
    "Latitude meaning, distance north or south from the equator by degrees, in this case, this will be the northest apartment. effectively, this result will be on the horizontal line that crosses NYC."
   ]
  },
  {
   "cell_type": "code",
   "execution_count": 10,
   "id": "1b292986",
   "metadata": {},
   "outputs": [
    {
     "data": {
      "text/plain": [
       "40.91306"
      ]
     },
     "execution_count": 10,
     "metadata": {},
     "output_type": "execute_result"
    }
   ],
   "source": [
    "df[\"latitude\"].max()"
   ]
  },
  {
   "attachments": {},
   "cell_type": "markdown",
   "id": "7d17b692",
   "metadata": {},
   "source": [
    "Mean number of days over the year in which the apartments are available:"
   ]
  },
  {
   "cell_type": "code",
   "execution_count": 11,
   "id": "873a28c2",
   "metadata": {},
   "outputs": [
    {
     "data": {
      "text/plain": [
       "112.78132733408324"
      ]
     },
     "execution_count": 11,
     "metadata": {},
     "output_type": "execute_result"
    }
   ],
   "source": [
    "df[\"availability_365\"].describe()[1]"
   ]
  },
  {
   "attachments": {},
   "cell_type": "markdown",
   "id": "fd80fe4b",
   "metadata": {},
   "source": [
    "total number of reviews given:"
   ]
  },
  {
   "cell_type": "code",
   "execution_count": 12,
   "id": "2388d7ea",
   "metadata": {},
   "outputs": [
    {
     "data": {
      "text/plain": [
       "1138005"
      ]
     },
     "execution_count": 12,
     "metadata": {},
     "output_type": "execute_result"
    }
   ],
   "source": [
    "df[\"number_of_reviews\"].sum()"
   ]
  },
  {
   "attachments": {},
   "cell_type": "markdown",
   "id": "4c2caf87",
   "metadata": {},
   "source": [
    "Number of apartments located in Queens district:"
   ]
  },
  {
   "cell_type": "code",
   "execution_count": 13,
   "id": "05f872ca",
   "metadata": {},
   "outputs": [
    {
     "data": {
      "text/plain": [
       "5666"
      ]
     },
     "execution_count": 13,
     "metadata": {},
     "output_type": "execute_result"
    }
   ],
   "source": [
    "df[df[\"district\"]==\"Queens\"].shape[0]"
   ]
  },
  {
   "attachments": {},
   "cell_type": "markdown",
   "id": "2b523af1",
   "metadata": {},
   "source": [
    "Most popular district:"
   ]
  },
  {
   "cell_type": "code",
   "execution_count": 14,
   "id": "7bf657a4",
   "metadata": {},
   "outputs": [
    {
     "data": {
      "text/plain": [
       "'Manhattan'"
      ]
     },
     "execution_count": 14,
     "metadata": {},
     "output_type": "execute_result"
    }
   ],
   "source": [
    "df[\"district\"].value_counts().idxmax()"
   ]
  },
  {
   "cell_type": "markdown",
   "id": "958f0de8",
   "metadata": {},
   "source": [
    "Least popular district:"
   ]
  },
  {
   "cell_type": "code",
   "execution_count": 15,
   "id": "f6ef2c9b",
   "metadata": {},
   "outputs": [
    {
     "data": {
      "text/plain": [
       "'Staten Island'"
      ]
     },
     "execution_count": 15,
     "metadata": {},
     "output_type": "execute_result"
    }
   ],
   "source": [
    "df[\"district\"].value_counts().idxmin()"
   ]
  },
  {
   "cell_type": "code",
   "execution_count": 28,
   "id": "ddc14edf",
   "metadata": {},
   "outputs": [],
   "source": [
    "df_fil = 0\n",
    "df_fil = df[df[\"price_per_night\"] >= 1000]\n",
    "df_fil = df_fil[df_fil[\"price_per_night\"] <= 5000]\n"
   ]
  },
  {
   "attachments": {},
   "cell_type": "markdown",
   "id": "27a2d0f0",
   "metadata": {},
   "source": [
    "Box & Whisker plot:\n",
    "* the horizontal line below the box represents the minimum.\n",
    "* the horizontal line over the box represents the maximum.\n",
    "* the horizontal line inside the box represents the median.\n",
    "* the box represents the 25th and the 75th percentile"
   ]
  },
  {
   "cell_type": "code",
   "execution_count": 27,
   "id": "e063b6e3",
   "metadata": {},
   "outputs": [
    {
     "data": {
      "text/plain": [
       "<Axes: >"
      ]
     },
     "execution_count": 27,
     "metadata": {},
     "output_type": "execute_result"
    },
    {
     "data": {
      "image/png": "[encoded data removed]",
      "text/plain": [
       "<Figure size 640x480 with 1 Axes>"
      ]
     },
     "metadata": {},
     "output_type": "display_data"
    }
   ],
   "source": [
    "df_fil[\"price_per_night\"].plot(kind=\"box\")"
   ]
  },
  {
   "attachments": {},
   "cell_type": "markdown",
   "id": "1560eb79",
   "metadata": {},
   "source": [
    "Histogram graph for prices:"
   ]
  },
  {
   "cell_type": "code",
   "execution_count": null,
   "id": "0093538f",
   "metadata": {},
   "outputs": [
    {
     "data": {
      "image/png": "[encoded data removed]",
      "text/plain": [
       "<Figure size 640x480 with 1 Axes>"
      ]
     },
     "metadata": {},
     "output_type": "display_data"
    }
   ],
   "source": [
    "plt.hist(df_fil[\"price_per_night\"])\n",
    "plt.show()"
   ]
  },
  {
   "attachments": {},
   "cell_type": "markdown",
   "id": "ed4b4193",
   "metadata": {},
   "source": [
    "Pie chart for occurences of each room type:"
   ]
  },
  {
   "cell_type": "code",
   "execution_count": 33,
   "id": "9e269b19",
   "metadata": {},
   "outputs": [
    {
     "data": {
      "text/plain": [
       "room_type\n",
       "Entire home/apt    25409\n",
       "Private room       22326\n",
       "Shared room         1160\n",
       "Name: count, dtype: int64"
      ]
     },
     "execution_count": 33,
     "metadata": {},
     "output_type": "execute_result"
    },
    {
     "data": {
      "image/png": "[encoded data removed]",
      "text/plain": [
       "<Figure size 640x480 with 1 Axes>"
      ]
     },
     "metadata": {},
     "output_type": "display_data"
    }
   ],
   "source": [
    "df[\"room_type\"].value_counts().plot(kind=\"pie\")\n",
    "df[\"room_type\"].value_counts()"
   ]
  }
 ],
 "metadata": {
  "kernelspec": {
   "display_name": "Python 3 (ipykernel)",
   "language": "python",
   "name": "python3"
  },
  "language_info": {
   "codemirror_mode": {
    "name": "ipython",
    "version": 3
   },
   "file_extension": ".py",
   "mimetype": "text/x-python",
   "name": "python",
   "nbconvert_exporter": "python",
   "pygments_lexer": "ipython3",
   "version": "3.10.11"
  }
 },
 "nbformat": 4,
 "nbformat_minor": 5
}
