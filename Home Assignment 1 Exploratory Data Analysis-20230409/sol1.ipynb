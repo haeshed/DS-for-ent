{
 "cells": [
  {
   "cell_type": "code",
   "execution_count": 31,
   "id": "d60e212c",
   "metadata": {},
   "outputs": [
    {
     "name": "stdout",
     "output_type": "stream",
     "text": [
      "Files in '/Users/asaf.lev/HW1-Solution': ['Assignent 1 - Solution.ipynb', 'abb_nyc_data.csv', '.ipynb_checkpoints']\n"
     ]
    }
   ],
   "source": [
    "import pandas as pd\n",
    "import matplotlib.pyplot as plt"
   ]
  },
  {
   "cell_type": "code",
   "execution_count": 32,
   "id": "b738c16d",
   "metadata": {},
   "outputs": [
    {
     "data": {
      "text/plain": [
       "Index(['id', 'name', 'host_id', 'host_name', 'district', 'neighbourhood',\n",
       "       'latitude', 'longitude', 'room_type', 'price_per_night',\n",
       "       'minimum_nights', 'number_of_reviews', 'last_review',\n",
       "       'reviews_per_month', 'calculated_host_listings_count',\n",
       "       'availability_365'],\n",
       "      dtype='object')"
      ]
     },
     "execution_count": 32,
     "metadata": {},
     "output_type": "execute_result"
    }
   ],
   "source": [
    "df = pd.read_csv('abb_nyc_data.csv')\n",
    "df.columns"
   ]
  },
  {
   "cell_type": "code",
   "execution_count": 33,
   "id": "3fc5fc52",
   "metadata": {},
   "outputs": [
    {
     "name": "stdout",
     "output_type": "stream",
     "text": [
      "Number of Rows: 48895\n",
      "Number of Rows: 16\n"
     ]
    }
   ],
   "source": [
    "#5\n",
    "rows, cols = df.shape\n",
    "print(f'Number of Rows: {rows}')\n",
    "print(f'Number of Rows: {cols}')"
   ]
  },
  {
   "cell_type": "code",
   "execution_count": 34,
   "id": "1bd38f35",
   "metadata": {},
   "outputs": [
    {
     "data": {
      "text/plain": [
       "3          Clinton Hill\n",
       "4           East Harlem\n",
       "5           Murray Hill\n",
       "6    Bedford-Stuyvesant\n",
       "7        Hell's Kitchen\n",
       "8       Upper West Side\n",
       "Name: neighbourhood, dtype: object"
      ]
     },
     "execution_count": 34,
     "metadata": {},
     "output_type": "execute_result"
    }
   ],
   "source": [
    "#6\n",
    "df.iloc[3:9]['neighbourhood']"
   ]
  },
  {
   "cell_type": "code",
   "execution_count": 35,
   "id": "a1daae2c",
   "metadata": {},
   "outputs": [
    {
     "data": {
      "text/plain": [
       "3"
      ]
     },
     "execution_count": 35,
     "metadata": {},
     "output_type": "execute_result"
    }
   ],
   "source": [
    "#7\n",
    "df['room_type'].nunique()"
   ]
  },
  {
   "cell_type": "code",
   "execution_count": 36,
   "id": "ab10e629",
   "metadata": {},
   "outputs": [
    {
     "name": "stdout",
     "output_type": "stream",
     "text": [
      "239\n"
     ]
    }
   ],
   "source": [
    "#8\n",
    "df_over_1000 = df[df['price_per_night'] > 1000]\n",
    "print(df_over_1000.shape[0])"
   ]
  },
  {
   "cell_type": "code",
   "execution_count": 37,
   "id": "8fba4e4a",
   "metadata": {},
   "outputs": [
    {
     "name": "stderr",
     "output_type": "stream",
     "text": [
      "/var/folders/w9/wk5b2m1x7gb_4k9hx1cjj5vc0000gp/T/ipykernel_6985/4001210361.py:2: UserWarning: Parsing dates in DD/MM/YYYY format when dayfirst=False (the default) was specified. This may lead to inconsistently parsed dates! Specify a format to ensure consistent parsing.\n",
      "  df['last_review'] = pd.to_datetime(df['last_review'])\n"
     ]
    },
    {
     "data": {
      "text/plain": [
       "Timestamp('2019-12-06 00:00:00')"
      ]
     },
     "execution_count": 37,
     "metadata": {},
     "output_type": "execute_result"
    }
   ],
   "source": [
    "#9\n",
    "df['last_review'] = pd.to_datetime(df['last_review'])\n",
    "df['last_review'].max()"
   ]
  },
  {
   "cell_type": "code",
   "execution_count": 38,
   "id": "3abf5a6e",
   "metadata": {},
   "outputs": [
    {
     "data": {
      "text/plain": [
       "240.15416974718727"
      ]
     },
     "execution_count": 38,
     "metadata": {},
     "output_type": "execute_result"
    }
   ],
   "source": [
    "#10\n",
    "df['price_per_night'].std()"
   ]
  },
  {
   "cell_type": "code",
   "execution_count": 39,
   "id": "d890ded6",
   "metadata": {},
   "outputs": [
    {
     "data": {
      "text/plain": [
       "0"
      ]
     },
     "execution_count": 39,
     "metadata": {},
     "output_type": "execute_result"
    }
   ],
   "source": [
    "#11\n",
    "df['number_of_reviews'].min()"
   ]
  },
  {
   "cell_type": "code",
   "execution_count": 40,
   "id": "1d2494e6",
   "metadata": {},
   "outputs": [
    {
     "data": {
      "text/plain": [
       "40.91306"
      ]
     },
     "execution_count": 40,
     "metadata": {},
     "output_type": "execute_result"
    }
   ],
   "source": [
    "#12\n",
    "df['latitude'].max() # Means further away from the eqautor"
   ]
  },
  {
   "cell_type": "code",
   "execution_count": 41,
   "id": "38de131d",
   "metadata": {},
   "outputs": [
    {
     "data": {
      "text/plain": [
       "112.78132733408324"
      ]
     },
     "execution_count": 41,
     "metadata": {},
     "output_type": "execute_result"
    }
   ],
   "source": [
    "#13\n",
    "df['availability_365'].mean()"
   ]
  },
  {
   "cell_type": "code",
   "execution_count": 42,
   "id": "e930c6ae",
   "metadata": {},
   "outputs": [
    {
     "data": {
      "text/plain": [
       "1138005"
      ]
     },
     "execution_count": 42,
     "metadata": {},
     "output_type": "execute_result"
    }
   ],
   "source": [
    "#14\n",
    "df['number_of_reviews'].sum()"
   ]
  },
  {
   "cell_type": "code",
   "execution_count": 43,
   "id": "1f6e82ff",
   "metadata": {},
   "outputs": [
    {
     "data": {
      "text/plain": [
       "Manhattan        21661\n",
       "Brooklyn         20104\n",
       "Queens            5666\n",
       "Bronx             1091\n",
       "Staten Island      373\n",
       "Name: district, dtype: int64"
      ]
     },
     "execution_count": 43,
     "metadata": {},
     "output_type": "execute_result"
    }
   ],
   "source": [
    "#16+17\n",
    "df['district'].value_counts()\n",
    "# Queen Answer is 5666\n",
    "# Most popular Manhattan\n",
    "#Least popular Staten Island"
   ]
  },
  {
   "cell_type": "code",
   "execution_count": 44,
   "id": "e44da215",
   "metadata": {},
   "outputs": [],
   "source": [
    "#18\n",
    "df_for_plot = df[(df['price_per_night']>1000) & (df['price_per_night']<5000) ]"
   ]
  },
  {
   "cell_type": "code",
   "execution_count": 45,
   "id": "c1585566",
   "metadata": {},
   "outputs": [
    {
     "data": {
      "text/plain": [
       "{'whiskers': [<matplotlib.lines.Line2D at 0x7f83a171f790>,\n",
       "  <matplotlib.lines.Line2D at 0x7f83a171fa30>],\n",
       " 'caps': [<matplotlib.lines.Line2D at 0x7f83a171fcd0>,\n",
       "  <matplotlib.lines.Line2D at 0x7f83a171ff70>],\n",
       " 'boxes': [<matplotlib.lines.Line2D at 0x7f83a171f4f0>],\n",
       " 'medians': [<matplotlib.lines.Line2D at 0x7f83913b0250>],\n",
       " 'fliers': [<matplotlib.lines.Line2D at 0x7f83913b04f0>],\n",
       " 'means': []}"
      ]
     },
     "execution_count": 45,
     "metadata": {},
     "output_type": "execute_result"
    },
    {
     "data": {
      "image/png": "[encoded data removed]",
      "text/plain": [
       "<Figure size 640x480 with 1 Axes>"
      ]
     },
     "metadata": {},
     "output_type": "display_data"
    }
   ],
   "source": [
    "#19\n",
    "plt.boxplot(df_for_plot['price_per_night'])\n",
    "# Horizontal line below - Q1 - 1.5IQR (Q3-Q1) -> \"Minimum\" -> below this outliers\n",
    "# Horizontal line Above - Q3 + 1.5IQR (Q3-Q1)-> \"Maximum\" -> above this outliers\n",
    "# Horizontal line in the box - Q2 / Median"
   ]
  },
  {
   "cell_type": "code",
   "execution_count": 46,
   "id": "04834158",
   "metadata": {},
   "outputs": [
    {
     "data": {
      "text/plain": [
       "(array([64., 48., 42.,  8., 17., 15.,  2.,  7.,  5.,  5.]),\n",
       " array([1002. , 1351.8, 1701.6, 2051.4, 2401.2, 2751. , 3100.8, 3450.6,\n",
       "        3800.4, 4150.2, 4500. ]),\n",
       " <BarContainer object of 10 artists>)"
      ]
     },
     "execution_count": 46,
     "metadata": {},
     "output_type": "execute_result"
    },
    {
     "data": {
      "image/png": "[encoded data removed]",
      "text/plain": [
       "<Figure size 640x480 with 1 Axes>"
      ]
     },
     "metadata": {},
     "output_type": "display_data"
    }
   ],
   "source": [
    "#20\n",
    "plt.hist(df_for_plot['price_per_night'])"
   ]
  },
  {
   "cell_type": "code",
   "execution_count": 47,
   "id": "1082c1a1",
   "metadata": {},
   "outputs": [
    {
     "data": {
      "text/plain": [
       "<Axes: title={'center': 'Number of Reviews by Room Type'}, xlabel='Room Type', ylabel='Number of Reviews'>"
      ]
     },
     "execution_count": 47,
     "metadata": {},
     "output_type": "execute_result"
    },
    {
     "data": {
      "image/png": "[encoded data removed]",
      "text/plain": [
       "<Figure size 640x480 with 1 Axes>"
      ]
     },
     "metadata": {},
     "output_type": "display_data"
    }
   ],
   "source": [
    "#21\n",
    "grouped_by_room_type = df.groupby('room_type')['number_of_reviews'].sum()\n",
    "grouped_by_room_type.plot(kind='bar',\n",
    "                       xlabel='Room Type',\n",
    "                       ylabel='Number of Reviews',\n",
    "                       title='Number of Reviews by Room Type'\n",
    ")"
   ]
  },
  {
   "cell_type": "code",
   "execution_count": null,
   "id": "93ee2339",
   "metadata": {},
   "outputs": [],
   "source": []
  }
 ],
 "metadata": {
  "kernelspec": {
   "display_name": "Python 3 (ipykernel)",
   "language": "python",
   "name": "python3"
  },
  "language_info": {
   "codemirror_mode": {
    "name": "ipython",
    "version": 3
   },
   "file_extension": ".py",
   "mimetype": "text/x-python",
   "name": "python",
   "nbconvert_exporter": "python",
   "pygments_lexer": "ipython3",
   "version": "3.10.9"
  }
 },
 "nbformat": 4,
 "nbformat_minor": 5
}